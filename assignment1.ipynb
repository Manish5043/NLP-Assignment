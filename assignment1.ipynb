{
  "nbformat": 4,
  "nbformat_minor": 0,
  "metadata": {
    "colab": {
      "provenance": []
    },
    "kernelspec": {
      "name": "python3",
      "display_name": "Python 3"
    },
    "language_info": {
      "name": "python"
    }
  },
  "cells": [
    {
      "cell_type": "code",
      "execution_count": 1,
      "metadata": {
        "colab": {
          "base_uri": "https://localhost:8080/"
        },
        "id": "NuyfLCPL2tcf",
        "outputId": "3763c7e1-4991-4492-c1b0-25584125c88d"
      },
      "outputs": [
        {
          "output_type": "stream",
          "name": "stderr",
          "text": [
            "[nltk_data] Downloading package punkt to /root/nltk_data...\n",
            "[nltk_data]   Unzipping tokenizers/punkt.zip.\n",
            "[nltk_data] Downloading package averaged_perceptron_tagger to\n",
            "[nltk_data]     /root/nltk_data...\n",
            "[nltk_data]   Unzipping taggers/averaged_perceptron_tagger.zip.\n"
          ]
        },
        {
          "output_type": "stream",
          "name": "stdout",
          "text": [
            "Python - NNP\n",
            "is - VBZ\n",
            "a - DT\n",
            "powerful - JJ\n",
            "programming - JJ\n",
            "language - NN\n",
            ". - .\n"
          ]
        }
      ],
      "source": [
        "# Import necessary libraries\n",
        "import nltk\n",
        "\n",
        "# Download the necessary resources for POS tagging\n",
        "nltk.download('punkt')\n",
        "nltk.download('averaged_perceptron_tagger')\n",
        "\n",
        "# Define a function to perform POS tagging\n",
        "def pos_tagging(sentence):\n",
        "    # Tokenize the sentence into words\n",
        "    words = nltk.word_tokenize(sentence)\n",
        "\n",
        "    # Perform POS tagging on the tokenized words\n",
        "    pos_tags = nltk.pos_tag(words)\n",
        "\n",
        "    # Print the words with their POS tags\n",
        "    for word, tag in pos_tags:\n",
        "        print(f\"{word} - {tag}\")\n",
        "\n",
        "# Example usage\n",
        "sentence = \"Python is a powerful programming language.\"\n",
        "pos_tagging(sentence)\n"
      ]
    }
  ]
}