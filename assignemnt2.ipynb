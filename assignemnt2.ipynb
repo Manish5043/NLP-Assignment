{
  "nbformat": 4,
  "nbformat_minor": 0,
  "metadata": {
    "colab": {
      "provenance": []
    },
    "kernelspec": {
      "name": "python3",
      "display_name": "Python 3"
    },
    "language_info": {
      "name": "python"
    }
  },
  "cells": [
    {
      "cell_type": "code",
      "execution_count": null,
      "metadata": {
        "colab": {
          "base_uri": "https://localhost:8080/"
        },
        "id": "lx7pSrhX4JDJ",
        "outputId": "9b712024-1062-4402-eacf-ad5f88afa3de"
      },
      "outputs": [
        {
          "output_type": "stream",
          "name": "stderr",
          "text": [
            "[nltk_data] Downloading package punkt to /root/nltk_data...\n",
            "[nltk_data]   Unzipping tokenizers/punkt.zip.\n"
          ]
        },
        {
          "output_type": "stream",
          "name": "stdout",
          "text": [
            "ChatBot: Hello! I'm a simple chatbot. Ask me anything or type 'bye' to exit.\n",
            "You: hello\n",
            "ChatBot: Hi there! How can I help you today?\n",
            "You: what is your name\n",
            "ChatBot: I am a chatbot created to assist you. You can call me ChatBot!\n",
            "You: ok\n",
            "ChatBot: I'm sorry, I don't understand that. Can you please ask something else?\n",
            "You: ok\n",
            "ChatBot: I'm sorry, I don't understand that. Can you please ask something else?\n"
          ]
        }
      ],
      "source": [
        "import nltk\n",
        "from nltk.tokenize import word_tokenize\n",
        "\n",
        "# Download necessary resources for NLTK\n",
        "nltk.download('punkt')\n",
        "\n",
        "# Define a list of predefined questions and responses\n",
        "predefined_responses = {\n",
        "    \"hello\": \"Hi there! How can I help you today?\",\n",
        "    \"how are you\": \"I'm just a bot, but I'm doing great! How about you?\",\n",
        "    \"what is your name\": \"I am a chatbot created to assist you. You can call me ChatBot!\",\n",
        "    \"what can you do\": \"I can answer basic questions and have a simple conversation with you. Try asking me something!\",\n",
        "    \"bye\": \"Goodbye! Have a great day!\"\n",
        "}\n",
        "\n",
        "# Function to process user input and generate a response\n",
        "def chatbot_response(user_input):\n",
        "    # Convert user input to lowercase and tokenize it\n",
        "    user_input = user_input.lower()\n",
        "    words = word_tokenize(user_input)\n",
        "\n",
        "    # Check for keywords in the user input and find a matching response\n",
        "    for question in predefined_responses:\n",
        "        if question in user_input:\n",
        "            return predefined_responses[question]\n",
        "\n",
        "    # Default response if no predefined answer is found\n",
        "    return \"I'm sorry, I don't understand that. Can you please ask something else?\"\n",
        "\n",
        "# Main loop to interact with the user\n",
        "def run_chatbot():\n",
        "    print(\"ChatBot: Hello! I'm a simple chatbot. Ask me anything or type 'bye' to exit.\")\n",
        "\n",
        "    while True:\n",
        "        user_input = input(\"You: \")\n",
        "\n",
        "        if user_input.lower() == \"bye\":\n",
        "            print(\"ChatBot: Goodbye! Have a great day!\")\n",
        "            break\n",
        "\n",
        "        response = chatbot_response(user_input)\n",
        "        print(f\"ChatBot: {response}\")\n",
        "\n",
        "# Run the chatbot\n",
        "if __name__ == \"__main__\":\n",
        "    run_chatbot()\n"
      ]
    }
  ]
}